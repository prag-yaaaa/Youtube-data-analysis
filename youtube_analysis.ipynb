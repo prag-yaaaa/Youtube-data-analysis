{
 "cells": [
  {
   "cell_type": "markdown",
   "id": "1aa1b58f",
   "metadata": {},
   "source": [
    "Youtube data is taken for this analysis. USCOMMENT.CSV, containing the youtube data from US. Basically it is the comments that we are receiving in each youtube video and the number of likes and replies received in the same."
   ]
  },
  {
   "cell_type": "markdown",
   "id": "e12f80ff",
   "metadata": {},
   "source": [
    "Importing the necessary libraries"
   ]
  },
  {
   "cell_type": "code",
   "execution_count": null,
   "id": "b68b4d9f",
   "metadata": {},
   "outputs": [],
   "source": [
    "import pandas as pd\n",
    "import numpy as np\n",
    "import matplotlib.pyplot as plt\n",
    "import seaborn as sns"
   ]
  },
  {
   "cell_type": "markdown",
   "id": "e67083db",
   "metadata": {},
   "source": [
    "reading the data that we have using PANDAS READ_CSV"
   ]
  },
  {
   "cell_type": "code",
   "execution_count": null,
   "id": "5df06c52",
   "metadata": {},
   "outputs": [
    {
     "name": "stderr",
     "output_type": "stream",
     "text": [
      "/var/folders/wx/llv42dz54_765_6h0pkyf5340000gq/T/ipykernel_40423/307043135.py:1: DtypeWarning: Columns (2,3) have mixed types. Specify dtype option on import or set low_memory=False.\n",
      "  df = pd.read_csv('UScomments.csv',on_bad_lines = 'skip')\n"
     ]
    }
   ],
   "source": [
    "df = pd.read_csv('UScomments.csv',on_bad_lines = 'skip')\n",
    "\n",
    "## we were having data errors, so we are just skipping the bad lines here\n",
    "## error debugging\n",
    "\n",
    "\"\"\"with open('UScomments.csv') as f:\n",
    "  lines = f.readlines()\n",
    "  print(lines[41589]) \"\"\""
   ]
  },
  {
   "cell_type": "code",
   "execution_count": null,
   "id": "cad098f0",
   "metadata": {},
   "outputs": [
    {
     "data": {
      "text/html": [
       "<div>\n",
       "<style scoped>\n",
       "    .dataframe tbody tr th:only-of-type {\n",
       "        vertical-align: middle;\n",
       "    }\n",
       "\n",
       "    .dataframe tbody tr th {\n",
       "        vertical-align: top;\n",
       "    }\n",
       "\n",
       "    .dataframe thead th {\n",
       "        text-align: right;\n",
       "    }\n",
       "</style>\n",
       "<table border=\"1\" class=\"dataframe\">\n",
       "  <thead>\n",
       "    <tr style=\"text-align: right;\">\n",
       "      <th></th>\n",
       "      <th>video_id</th>\n",
       "      <th>comment_text</th>\n",
       "      <th>likes</th>\n",
       "      <th>replies</th>\n",
       "    </tr>\n",
       "  </thead>\n",
       "  <tbody>\n",
       "    <tr>\n",
       "      <th>0</th>\n",
       "      <td>XpVt6Z1Gjjo</td>\n",
       "      <td>Logan Paul it's yo big day ‼️‼️‼️</td>\n",
       "      <td>4</td>\n",
       "      <td>0</td>\n",
       "    </tr>\n",
       "    <tr>\n",
       "      <th>1</th>\n",
       "      <td>XpVt6Z1Gjjo</td>\n",
       "      <td>I've been following you from the start of your...</td>\n",
       "      <td>3</td>\n",
       "      <td>0</td>\n",
       "    </tr>\n",
       "    <tr>\n",
       "      <th>2</th>\n",
       "      <td>XpVt6Z1Gjjo</td>\n",
       "      <td>Say hi to Kong and maverick for me</td>\n",
       "      <td>3</td>\n",
       "      <td>0</td>\n",
       "    </tr>\n",
       "    <tr>\n",
       "      <th>3</th>\n",
       "      <td>XpVt6Z1Gjjo</td>\n",
       "      <td>MY FAN . attendance</td>\n",
       "      <td>3</td>\n",
       "      <td>0</td>\n",
       "    </tr>\n",
       "    <tr>\n",
       "      <th>4</th>\n",
       "      <td>XpVt6Z1Gjjo</td>\n",
       "      <td>trending 😉</td>\n",
       "      <td>3</td>\n",
       "      <td>0</td>\n",
       "    </tr>\n",
       "  </tbody>\n",
       "</table>\n",
       "</div>"
      ],
      "text/plain": [
       "      video_id                                       comment_text likes  \\\n",
       "0  XpVt6Z1Gjjo                  Logan Paul it's yo big day ‼️‼️‼️     4   \n",
       "1  XpVt6Z1Gjjo  I've been following you from the start of your...     3   \n",
       "2  XpVt6Z1Gjjo                 Say hi to Kong and maverick for me     3   \n",
       "3  XpVt6Z1Gjjo                                MY FAN . attendance     3   \n",
       "4  XpVt6Z1Gjjo                                         trending 😉     3   \n",
       "\n",
       "  replies  \n",
       "0       0  \n",
       "1       0  \n",
       "2       0  \n",
       "3       0  \n",
       "4       0  "
      ]
     },
     "execution_count": 50,
     "metadata": {},
     "output_type": "execute_result"
    }
   ],
   "source": [
    "df.head()"
   ]
  },
  {
   "cell_type": "code",
   "execution_count": null,
   "id": "b8c7c310",
   "metadata": {},
   "outputs": [
    {
     "data": {
      "text/html": [
       "<div>\n",
       "<style scoped>\n",
       "    .dataframe tbody tr th:only-of-type {\n",
       "        vertical-align: middle;\n",
       "    }\n",
       "\n",
       "    .dataframe tbody tr th {\n",
       "        vertical-align: top;\n",
       "    }\n",
       "\n",
       "    .dataframe thead th {\n",
       "        text-align: right;\n",
       "    }\n",
       "</style>\n",
       "<table border=\"1\" class=\"dataframe\">\n",
       "  <thead>\n",
       "    <tr style=\"text-align: right;\">\n",
       "      <th></th>\n",
       "      <th>video_id</th>\n",
       "      <th>comment_text</th>\n",
       "      <th>likes</th>\n",
       "      <th>replies</th>\n",
       "    </tr>\n",
       "  </thead>\n",
       "  <tbody>\n",
       "    <tr>\n",
       "      <th>count</th>\n",
       "      <td>691400</td>\n",
       "      <td>691374</td>\n",
       "      <td>691400</td>\n",
       "      <td>691400</td>\n",
       "    </tr>\n",
       "    <tr>\n",
       "      <th>unique</th>\n",
       "      <td>2266</td>\n",
       "      <td>434075</td>\n",
       "      <td>1284</td>\n",
       "      <td>479</td>\n",
       "    </tr>\n",
       "    <tr>\n",
       "      <th>top</th>\n",
       "      <td>XpVt6Z1Gjjo</td>\n",
       "      <td>Lol</td>\n",
       "      <td>0</td>\n",
       "      <td>0</td>\n",
       "    </tr>\n",
       "    <tr>\n",
       "      <th>freq</th>\n",
       "      <td>800</td>\n",
       "      <td>310</td>\n",
       "      <td>456894</td>\n",
       "      <td>525730</td>\n",
       "    </tr>\n",
       "  </tbody>\n",
       "</table>\n",
       "</div>"
      ],
      "text/plain": [
       "           video_id comment_text   likes  replies\n",
       "count        691400       691374  691400   691400\n",
       "unique         2266       434075    1284      479\n",
       "top     XpVt6Z1Gjjo          Lol       0        0\n",
       "freq            800          310  456894   525730"
      ]
     },
     "execution_count": 51,
     "metadata": {},
     "output_type": "execute_result"
    }
   ],
   "source": [
    "df.describe()"
   ]
  },
  {
   "cell_type": "code",
   "execution_count": null,
   "id": "cfecbde7",
   "metadata": {},
   "outputs": [
    {
     "name": "stdout",
     "output_type": "stream",
     "text": [
      "<class 'pandas.core.frame.DataFrame'>\n",
      "RangeIndex: 691400 entries, 0 to 691399\n",
      "Data columns (total 4 columns):\n",
      " #   Column        Non-Null Count   Dtype \n",
      "---  ------        --------------   ----- \n",
      " 0   video_id      691400 non-null  object\n",
      " 1   comment_text  691374 non-null  object\n",
      " 2   likes         691400 non-null  object\n",
      " 3   replies       691400 non-null  object\n",
      "dtypes: object(4)\n",
      "memory usage: 21.1+ MB\n"
     ]
    }
   ],
   "source": [
    "df.info()"
   ]
  },
  {
   "cell_type": "markdown",
   "id": "dbc5601c",
   "metadata": {},
   "source": [
    "So, we have a total of 691400 rows of data, 4 columns all string (object as shown). However if we see in the sample data."
   ]
  },
  {
   "cell_type": "code",
   "execution_count": null,
   "id": "8e6470ea",
   "metadata": {},
   "outputs": [
    {
     "data": {
      "text/html": [
       "<div>\n",
       "<style scoped>\n",
       "    .dataframe tbody tr th:only-of-type {\n",
       "        vertical-align: middle;\n",
       "    }\n",
       "\n",
       "    .dataframe tbody tr th {\n",
       "        vertical-align: top;\n",
       "    }\n",
       "\n",
       "    .dataframe thead th {\n",
       "        text-align: right;\n",
       "    }\n",
       "</style>\n",
       "<table border=\"1\" class=\"dataframe\">\n",
       "  <thead>\n",
       "    <tr style=\"text-align: right;\">\n",
       "      <th></th>\n",
       "      <th>video_id</th>\n",
       "      <th>comment_text</th>\n",
       "      <th>likes</th>\n",
       "      <th>replies</th>\n",
       "    </tr>\n",
       "  </thead>\n",
       "  <tbody>\n",
       "    <tr>\n",
       "      <th>11403</th>\n",
       "      <td>J_e77K4n6Ts</td>\n",
       "      <td>This is 100 fucking percent disgusting.\\nI wan...</td>\n",
       "      <td>0</td>\n",
       "      <td>0</td>\n",
       "    </tr>\n",
       "    <tr>\n",
       "      <th>16937</th>\n",
       "      <td>cNgT8qEQJ3w</td>\n",
       "      <td>checks out</td>\n",
       "      <td>0</td>\n",
       "      <td>1</td>\n",
       "    </tr>\n",
       "    <tr>\n",
       "      <th>316886</th>\n",
       "      <td>w7h--c54_O8</td>\n",
       "      <td>Plz make some cupcakes teen titans go theme wi...</td>\n",
       "      <td>0</td>\n",
       "      <td>0</td>\n",
       "    </tr>\n",
       "    <tr>\n",
       "      <th>651795</th>\n",
       "      <td>Hlt3rA-oDao</td>\n",
       "      <td>This was pretty damn awesome</td>\n",
       "      <td>0</td>\n",
       "      <td>0</td>\n",
       "    </tr>\n",
       "    <tr>\n",
       "      <th>603940</th>\n",
       "      <td>LSYc5HvyXKo</td>\n",
       "      <td>Love you both,  but this time what stole my he...</td>\n",
       "      <td>0</td>\n",
       "      <td>0</td>\n",
       "    </tr>\n",
       "    <tr>\n",
       "      <th>683705</th>\n",
       "      <td>pcnlLwwR5x4</td>\n",
       "      <td>You Trump supporters should go and respond to ...</td>\n",
       "      <td>0</td>\n",
       "      <td>1</td>\n",
       "    </tr>\n",
       "  </tbody>\n",
       "</table>\n",
       "</div>"
      ],
      "text/plain": [
       "           video_id                                       comment_text likes  \\\n",
       "11403   J_e77K4n6Ts  This is 100 fucking percent disgusting.\\nI wan...     0   \n",
       "16937   cNgT8qEQJ3w                                         checks out     0   \n",
       "316886  w7h--c54_O8  Plz make some cupcakes teen titans go theme wi...     0   \n",
       "651795  Hlt3rA-oDao                       This was pretty damn awesome     0   \n",
       "603940  LSYc5HvyXKo  Love you both,  but this time what stole my he...     0   \n",
       "683705  pcnlLwwR5x4  You Trump supporters should go and respond to ...     0   \n",
       "\n",
       "       replies  \n",
       "11403        0  \n",
       "16937        1  \n",
       "316886       0  \n",
       "651795       0  \n",
       "603940       0  \n",
       "683705       1  "
      ]
     },
     "execution_count": 53,
     "metadata": {},
     "output_type": "execute_result"
    }
   ],
   "source": [
    "df.sample(6)"
   ]
  },
  {
   "cell_type": "code",
   "execution_count": null,
   "id": "a4d8306d",
   "metadata": {},
   "outputs": [
    {
     "data": {
      "text/plain": [
       "array(['4', '3', '0', ..., 6365, 3014, 2292], shape=(1284,), dtype=object)"
      ]
     },
     "execution_count": 54,
     "metadata": {},
     "output_type": "execute_result"
    }
   ],
   "source": [
    "df['likes'].unique()"
   ]
  },
  {
   "cell_type": "code",
   "execution_count": null,
   "id": "19dfcf38",
   "metadata": {},
   "outputs": [
    {
     "data": {
      "text/plain": [
       "array(['0', '1', '500', '2', '261', '29', '180', '3', '4', '5', '77', '6',\n",
       "       '14', '8', '11', '15', '7', '10', '156', '9', '13', '20', '16',\n",
       "       '85', '520', '83', '22', '12', '24', '34', '240', '504', '32',\n",
       "       '31', '196', '104', '50', '44', '138', '95', '21', '351', '105',\n",
       "       '19', '166', '471', '266', '46', '136', '66', '286', '208', '259',\n",
       "       '18', '112', '168', '28', '36', '88', '205', '78', '55', '164',\n",
       "       '101', '39', '17', '86', '177', '40', '322', '291', '335', '495',\n",
       "       '476', 'replies', '42', '159', '27', '478', '92', '503', '26',\n",
       "       '25', '161', '242', '38', '371', '60', '354', '401', '33', '501',\n",
       "       '49', '47', '224', '71', '54', '23', '65', '41', '80', '91', '311',\n",
       "       '45', '230', '140', '529', '485', '246', '94', '412', '79', '486',\n",
       "       '292', '391', '323', '376', '132', '488', '453', '264', '160',\n",
       "       '169', '528', '282', '149', '466', '74', '499', '225', '370',\n",
       "       '297', '329', '73', '175', '477', '181', '277', '301', '30', '90',\n",
       "       '244', '170', '35', '129', '53', '162', 0, 1, 2, 4, 6, 5, 16, 500,\n",
       "       11, 28, 18, 3, 13, 8, 22, 7, 181, 456, 175, 274, 12, 528, 35, 19,\n",
       "       187, 495, 503, 77, 10, 9, 501, 95, 92, 26, 242, 66, 61, 38, 39, 43,\n",
       "       62, 17, 76, 15, 98, 203, 58, 14, 48, 30, 37, 90, 63, 67, 65, 71,\n",
       "       115, 84, 64, 226, 59, 25, 52, 74, 340, 248, 27, 87, 527, 220, 493,\n",
       "       134, 117, 329, 268, 89, 40, 83, 24, 23, 124, 99, 34, 60, 88, 120,\n",
       "       140, 96, 93, 111, 20, 75, 86, 251, 366, 21, 504, 301, 302, 202,\n",
       "       182, 151, 114, 357, 257, 127, 33, 282, 56, 194, 176, 348, 316, 189,\n",
       "       186, 212, 152, 125, 377, 275, 139, 286, 31, 45, 259, 197, 437, 255,\n",
       "       105, 230, 97, 369, 36, 44, 138, 195, 191, 336, 224, 168, 396, 288,\n",
       "       158, 296, 32, 468, 287, 244, 103, 394, 46, 199, 347, 232, 409, 305,\n",
       "       164, 299, 121, 85, 292, 29, 170, 147, 57, 178, 465, 480, 249, 390,\n",
       "       106, 210, 346, 233, 141, 41, 307, 408, 70, 252, 478, 489, 323, 136,\n",
       "       324, 69, 51, 153, 166, 154, 126, 54, 313, 434, 47, 133, 192, 183,\n",
       "       206, 80, 161, 169, 131, 50, 443, 267, 231, 222, 309, 213, 219, 306,\n",
       "       253, 499, 229, 94, 216, 318, 107, 321, 261, 234, 108, 102, 474, 55,\n",
       "       49, 429, 398, 358, 289, 333, 273, 238, 207, 492, 451, 405, 381,\n",
       "       337, 156, 270, 291, 467, 393, 314, 322, 211, 137, 494, 469, 363,\n",
       "       345, 352, 342, 359, 118, 356, 402, 368, 290, 163, 278, 122, 128,\n",
       "       436, 371, 414, 165, 100, 470, 42, 454, 382, 415, 407, 400, 116,\n",
       "       483, 180, 294, 132, 452, 172, 417, 209, 123, 162, 487, 184, 101,\n",
       "       507, 53, 173, 428, 167, 424, 146, 404, 250, 506, 208, 174, 217,\n",
       "       143, 119, 367, 283, 104, 341, 150, 279, 383, 221, 157, 68, 247,\n",
       "       397, 349, 190, 227, 193, 82, 440, 277, 110, 91, 256, 239, 243, 298,\n",
       "       263], dtype=object)"
      ]
     },
     "execution_count": 55,
     "metadata": {},
     "output_type": "execute_result"
    }
   ],
   "source": [
    "df['replies'].unique()"
   ]
  },
  {
   "cell_type": "markdown",
   "id": "f524b841",
   "metadata": {},
   "source": [
    "we have video ID as mixed varchar data, comment_text as pure string value, Likes seems to be numeric value and replies as numeric values as well. However after viewing the unique values, some value are numeric eg. 157, whereas some as string e.g. '129'."
   ]
  },
  {
   "cell_type": "code",
   "execution_count": null,
   "id": "d3d82142",
   "metadata": {},
   "outputs": [],
   "source": [
    "df['replies'] = pd.to_numeric(df['replies'], errors='coerce')"
   ]
  },
  {
   "cell_type": "code",
   "execution_count": null,
   "id": "767aa611",
   "metadata": {},
   "outputs": [],
   "source": [
    "df['likes'] = pd.to_numeric(df['likes'], errors='coerce')"
   ]
  },
  {
   "cell_type": "code",
   "execution_count": null,
   "id": "6a04730d",
   "metadata": {},
   "outputs": [
    {
     "name": "stdout",
     "output_type": "stream",
     "text": [
      "<class 'pandas.core.frame.DataFrame'>\n",
      "RangeIndex: 691400 entries, 0 to 691399\n",
      "Data columns (total 4 columns):\n",
      " #   Column        Non-Null Count   Dtype  \n",
      "---  ------        --------------   -----  \n",
      " 0   video_id      691400 non-null  object \n",
      " 1   comment_text  691374 non-null  object \n",
      " 2   likes         691399 non-null  float64\n",
      " 3   replies       691399 non-null  float64\n",
      "dtypes: float64(2), object(2)\n",
      "memory usage: 21.1+ MB\n"
     ]
    }
   ],
   "source": [
    "df.info()"
   ]
  },
  {
   "cell_type": "markdown",
   "id": "f72de26b",
   "metadata": {},
   "source": [
    "instead of int the data type has been converted to float, this might be due to NAN values, lets check them"
   ]
  },
  {
   "cell_type": "code",
   "execution_count": null,
   "id": "bc4cf7e0",
   "metadata": {},
   "outputs": [
    {
     "data": {
      "text/plain": [
       "np.int64(1)"
      ]
     },
     "execution_count": 59,
     "metadata": {},
     "output_type": "execute_result"
    }
   ],
   "source": [
    "df['replies'].isna().sum()"
   ]
  },
  {
   "cell_type": "code",
   "execution_count": null,
   "id": "c57a3573",
   "metadata": {},
   "outputs": [
    {
     "data": {
      "text/plain": [
       "np.int64(1)"
      ]
     },
     "execution_count": 60,
     "metadata": {},
     "output_type": "execute_result"
    }
   ],
   "source": [
    "df['likes'].isna().sum()"
   ]
  },
  {
   "cell_type": "code",
   "execution_count": null,
   "id": "2cdb8e8b",
   "metadata": {},
   "outputs": [],
   "source": [
    "df = df.dropna(subset=['replies'])"
   ]
  },
  {
   "cell_type": "code",
   "execution_count": null,
   "id": "357ec671",
   "metadata": {},
   "outputs": [
    {
     "data": {
      "text/plain": [
       "np.int64(0)"
      ]
     },
     "execution_count": 64,
     "metadata": {},
     "output_type": "execute_result"
    }
   ],
   "source": [
    "df['replies'].isna().sum()"
   ]
  },
  {
   "cell_type": "code",
   "execution_count": null,
   "id": "80b7f281",
   "metadata": {},
   "outputs": [],
   "source": [
    "df = df.dropna(subset=['likes'])"
   ]
  },
  {
   "cell_type": "code",
   "execution_count": null,
   "id": "2c3b5bf0",
   "metadata": {},
   "outputs": [
    {
     "data": {
      "text/plain": [
       "np.int64(0)"
      ]
     },
     "execution_count": 66,
     "metadata": {},
     "output_type": "execute_result"
    }
   ],
   "source": [
    "df['likes'].isna().sum()"
   ]
  },
  {
   "cell_type": "markdown",
   "id": "73f57ec0",
   "metadata": {},
   "source": [
    "so now we might be able to convert into Integer datatype"
   ]
  },
  {
   "cell_type": "code",
   "execution_count": null,
   "id": "1ac04f0f",
   "metadata": {},
   "outputs": [],
   "source": [
    "df['replies'] = df['replies'].astype(int)\n",
    "df['likes'] = df['likes'].astype(int)"
   ]
  },
  {
   "cell_type": "code",
   "execution_count": null,
   "id": "3af616a7",
   "metadata": {},
   "outputs": [
    {
     "name": "stdout",
     "output_type": "stream",
     "text": [
      "<class 'pandas.core.frame.DataFrame'>\n",
      "Index: 691399 entries, 0 to 691399\n",
      "Data columns (total 4 columns):\n",
      " #   Column        Non-Null Count   Dtype \n",
      "---  ------        --------------   ----- \n",
      " 0   video_id      691399 non-null  object\n",
      " 1   comment_text  691373 non-null  object\n",
      " 2   likes         691399 non-null  int64 \n",
      " 3   replies       691399 non-null  int64 \n",
      "dtypes: int64(2), object(2)\n",
      "memory usage: 26.4+ MB\n"
     ]
    }
   ],
   "source": [
    "df.info()"
   ]
  },
  {
   "cell_type": "markdown",
   "id": "7c6de5bb",
   "metadata": {},
   "source": [
    "Now the data looks fine, all string values have object data type and integer values have integer data type"
   ]
  },
  {
   "cell_type": "markdown",
   "id": "9524dd8b",
   "metadata": {},
   "source": [
    "Now for duplicates and missing value check"
   ]
  },
  {
   "cell_type": "code",
   "execution_count": null,
   "id": "fe2afcff",
   "metadata": {},
   "outputs": [
    {
     "data": {
      "text/plain": [
       "video_id         0\n",
       "comment_text    26\n",
       "likes            0\n",
       "replies          0\n",
       "dtype: int64"
      ]
     },
     "execution_count": 69,
     "metadata": {},
     "output_type": "execute_result"
    }
   ],
   "source": [
    "df.isnull().sum()"
   ]
  },
  {
   "cell_type": "markdown",
   "id": "9fecc064",
   "metadata": {},
   "source": [
    "26 rows have missing values, this is minimum number of rows, so lets drop the rows for now"
   ]
  },
  {
   "cell_type": "code",
   "execution_count": null,
   "id": "0803b783",
   "metadata": {},
   "outputs": [],
   "source": [
    "df.dropna(inplace=True)"
   ]
  },
  {
   "cell_type": "code",
   "execution_count": null,
   "id": "bfa89bb6",
   "metadata": {},
   "outputs": [
    {
     "data": {
      "text/plain": [
       "video_id        0\n",
       "comment_text    0\n",
       "likes           0\n",
       "replies         0\n",
       "dtype: int64"
      ]
     },
     "execution_count": 71,
     "metadata": {},
     "output_type": "execute_result"
    }
   ],
   "source": [
    "df.isnull().sum()"
   ]
  },
  {
   "cell_type": "code",
   "execution_count": null,
   "id": "fbf42bb8",
   "metadata": {},
   "outputs": [
    {
     "data": {
      "text/plain": [
       "np.int64(219743)"
      ]
     },
     "execution_count": 76,
     "metadata": {},
     "output_type": "execute_result"
    }
   ],
   "source": [
    "df.duplicated().sum()\n",
    "\n",
    "## 691,399 total number of rows, out of which 219,743 are duplicates\n",
    "## we have no use of duplicate records. so lets remove them"
   ]
  },
  {
   "cell_type": "code",
   "execution_count": null,
   "id": "510bec49",
   "metadata": {},
   "outputs": [],
   "source": [
    "df = df.drop_duplicates(keep='last')"
   ]
  },
  {
   "cell_type": "code",
   "execution_count": null,
   "id": "77f30fb6",
   "metadata": {},
   "outputs": [
    {
     "data": {
      "text/plain": [
       "np.int64(0)"
      ]
     },
     "execution_count": 78,
     "metadata": {},
     "output_type": "execute_result"
    }
   ],
   "source": [
    "df.duplicated().sum()"
   ]
  },
  {
   "cell_type": "markdown",
   "id": "d2ffef94",
   "metadata": {},
   "source": [
    "Now the data has been cleaned, all the duplicates, missing values and data type has been cleaned and transformed."
   ]
  },
  {
   "cell_type": "code",
   "execution_count": null,
   "id": "86e82b7d",
   "metadata": {},
   "outputs": [
    {
     "name": "stdout",
     "output_type": "stream",
     "text": [
      "<class 'pandas.core.frame.DataFrame'>\n",
      "Index: 471630 entries, 0 to 691399\n",
      "Data columns (total 4 columns):\n",
      " #   Column        Non-Null Count   Dtype \n",
      "---  ------        --------------   ----- \n",
      " 0   video_id      471630 non-null  object\n",
      " 1   comment_text  471630 non-null  object\n",
      " 2   likes         471630 non-null  int64 \n",
      " 3   replies       471630 non-null  int64 \n",
      "dtypes: int64(2), object(2)\n",
      "memory usage: 18.0+ MB\n"
     ]
    }
   ],
   "source": [
    "df.info()"
   ]
  },
  {
   "cell_type": "code",
   "execution_count": null,
   "id": "67b56fa7",
   "metadata": {},
   "outputs": [
    {
     "data": {
      "text/html": [
       "<div>\n",
       "<style scoped>\n",
       "    .dataframe tbody tr th:only-of-type {\n",
       "        vertical-align: middle;\n",
       "    }\n",
       "\n",
       "    .dataframe tbody tr th {\n",
       "        vertical-align: top;\n",
       "    }\n",
       "\n",
       "    .dataframe thead th {\n",
       "        text-align: right;\n",
       "    }\n",
       "</style>\n",
       "<table border=\"1\" class=\"dataframe\">\n",
       "  <thead>\n",
       "    <tr style=\"text-align: right;\">\n",
       "      <th></th>\n",
       "      <th>video_id</th>\n",
       "      <th>comment_text</th>\n",
       "      <th>likes</th>\n",
       "      <th>replies</th>\n",
       "    </tr>\n",
       "  </thead>\n",
       "  <tbody>\n",
       "    <tr>\n",
       "      <th>0</th>\n",
       "      <td>XpVt6Z1Gjjo</td>\n",
       "      <td>Logan Paul it's yo big day ‼️‼️‼️</td>\n",
       "      <td>4</td>\n",
       "      <td>0</td>\n",
       "    </tr>\n",
       "    <tr>\n",
       "      <th>1</th>\n",
       "      <td>XpVt6Z1Gjjo</td>\n",
       "      <td>I've been following you from the start of your...</td>\n",
       "      <td>3</td>\n",
       "      <td>0</td>\n",
       "    </tr>\n",
       "    <tr>\n",
       "      <th>2</th>\n",
       "      <td>XpVt6Z1Gjjo</td>\n",
       "      <td>Say hi to Kong and maverick for me</td>\n",
       "      <td>3</td>\n",
       "      <td>0</td>\n",
       "    </tr>\n",
       "    <tr>\n",
       "      <th>3</th>\n",
       "      <td>XpVt6Z1Gjjo</td>\n",
       "      <td>MY FAN . attendance</td>\n",
       "      <td>3</td>\n",
       "      <td>0</td>\n",
       "    </tr>\n",
       "    <tr>\n",
       "      <th>4</th>\n",
       "      <td>XpVt6Z1Gjjo</td>\n",
       "      <td>trending 😉</td>\n",
       "      <td>3</td>\n",
       "      <td>0</td>\n",
       "    </tr>\n",
       "  </tbody>\n",
       "</table>\n",
       "</div>"
      ],
      "text/plain": [
       "      video_id                                       comment_text  likes  \\\n",
       "0  XpVt6Z1Gjjo                  Logan Paul it's yo big day ‼️‼️‼️      4   \n",
       "1  XpVt6Z1Gjjo  I've been following you from the start of your...      3   \n",
       "2  XpVt6Z1Gjjo                 Say hi to Kong and maverick for me      3   \n",
       "3  XpVt6Z1Gjjo                                MY FAN . attendance      3   \n",
       "4  XpVt6Z1Gjjo                                         trending 😉      3   \n",
       "\n",
       "   replies  \n",
       "0        0  \n",
       "1        0  \n",
       "2        0  \n",
       "3        0  \n",
       "4        0  "
      ]
     },
     "execution_count": 79,
     "metadata": {},
     "output_type": "execute_result"
    }
   ],
   "source": [
    "df.head()"
   ]
  },
  {
   "cell_type": "markdown",
   "id": "1c60d9e1",
   "metadata": {},
   "source": [
    "EDA - EXPLORATIVE DATA ANALYSIS"
   ]
  }
 ],
 "metadata": {
  "kernelspec": {
   "display_name": "Python 3",
   "language": "python",
   "name": "python3"
  },
  "language_info": {
   "codemirror_mode": {
    "name": "ipython",
    "version": 3
   },
   "file_extension": ".py",
   "mimetype": "text/x-python",
   "name": "python",
   "nbconvert_exporter": "python",
   "pygments_lexer": "ipython3",
   "version": "3.13.1"
  }
 },
 "nbformat": 4,
 "nbformat_minor": 5
}
