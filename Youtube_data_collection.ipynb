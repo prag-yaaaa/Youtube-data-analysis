{
 "cells": [
  {
   "cell_type": "markdown",
   "id": "350809ae",
   "metadata": {},
   "source": [
    "So i just wanted to collect data from youtube and maybe analyze about the trending videos on Youtube.\n",
    "To do this, the first step is data collection and to do so I need to set up an API, which we can do so from Google Cloud Console [https://console.cloud.google.com/welcome?project=precise-data-392110&pli=1&inv=1&invt=Abxa8A]."
   ]
  },
  {
   "cell_type": "markdown",
   "id": "16f68b37",
   "metadata": {},
   "source": [
    "1. Data Collection"
   ]
  },
  {
   "cell_type": "markdown",
   "id": "e7d725a4",
   "metadata": {},
   "source": [
    "-- my generated API Key : *******"
   ]
  },
  {
   "cell_type": "markdown",
   "id": "c81e2cd1",
   "metadata": {},
   "source": [
    "python3 -m pip install google-api-python-client"
   ]
  },
  {
   "cell_type": "code",
   "execution_count": null,
   "id": "3f883c52",
   "metadata": {},
   "outputs": [],
   "source": [
    "import pandas as pd\n",
    "from googleapiclient.discovery import build\n",
    "## googleapiclient is part of the Google API Client Library for Python.\n",
    "## It allows Python programs to access various Google services like: YouTube Data API, Google Drive API, Google Sheets API, and many others"
   ]
  },
  {
   "cell_type": "code",
   "execution_count": 6,
   "id": "9a1a77d2",
   "metadata": {},
   "outputs": [],
   "source": [
    "## Defining a API_Key, here we provide the API key that we have generated from google cloud console\n",
    "APIKEY = '********'"
   ]
  },
  {
   "cell_type": "markdown",
   "id": "90baa871",
   "metadata": {},
   "source": [
    "So we will collect data for about top 100 trending videos on Youtube."
   ]
  }
 ],
 "metadata": {
  "kernelspec": {
   "display_name": "Python 3",
   "language": "python",
   "name": "python3"
  },
  "language_info": {
   "codemirror_mode": {
    "name": "ipython",
    "version": 3
   },
   "file_extension": ".py",
   "mimetype": "text/x-python",
   "name": "python",
   "nbconvert_exporter": "python",
   "pygments_lexer": "ipython3",
   "version": "3.13.1"
  }
 },
 "nbformat": 4,
 "nbformat_minor": 5
}
